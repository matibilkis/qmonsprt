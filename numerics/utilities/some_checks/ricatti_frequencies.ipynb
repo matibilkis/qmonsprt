{
 "cells": [
  {
   "cell_type": "code",
   "execution_count": 1,
   "id": "613cc838",
   "metadata": {},
   "outputs": [],
   "source": [
    "%load_ext autoreload\n",
    "%autoreload 2\n",
    "import os \n",
    "os.chdir(\"..\")\n"
   ]
  },
  {
   "cell_type": "code",
   "execution_count": 46,
   "id": "342b419c",
   "metadata": {},
   "outputs": [],
   "source": [
    "\n",
    "import sympy as s\n",
    "import numpy as np\n",
    "from utilities.misc import *\n",
    "from scipy.linalg import solve_continuous_are\n",
    "import matplotlib.pyplot as plt "
   ]
  },
  {
   "cell_type": "code",
   "execution_count": 3,
   "id": "dc40ea19",
   "metadata": {},
   "outputs": [],
   "source": [
    "def get_ders():\n",
    "\n",
    "    gamma = s.Symbol(\"gamma_val\")\n",
    "    omega = s.Symbol(\"omega_val\") #freq harmonic oscillator\n",
    "    eta = s.Symbol(\"eta_val\") #efficiency measurement (appearing in the CPTP decomposiion X,Y)\n",
    "    kappa = s.Symbol(\"kappa_val\") #efficiency measurement (appearing in the CPTP decomposiion X,Y)\n",
    "    n = s.Symbol(\"n_val\") #n_th\n",
    "\n",
    "    C = s.sqrt(4*eta*kappa)*np.array([[1,0],[0,1]]) #homodyne\n",
    "    A = np.array([[-gamma/2, omega],[-omega, -gamma/2]])\n",
    "\n",
    "    D = np.diag([(gamma*(n+0.5) + kappa)]*2)\n",
    "    Lambda = s.Matrix(np.zeros((2,2)))\n",
    "\n",
    "    varx = s.Symbol(\"vx\")\n",
    "    varp = s.Symbol(\"vp\")\n",
    "    covxp = s.Symbol(\"cvxp\")\n",
    "\n",
    "    cov = s.Matrix([[varx, covxp],[covxp, varp]])\n",
    "\n",
    "    dots = np.array(A*cov + cov*(A.T) + D - (cov*C.T)*(C*cov))\n",
    "\n",
    "    return [dots[0,0], dots[1,1], dots[0,1]]"
   ]
  },
  {
   "cell_type": "markdown",
   "id": "98477061",
   "metadata": {},
   "source": [
    "numpy"
   ]
  },
  {
   "cell_type": "code",
   "execution_count": 32,
   "id": "04f2bbef",
   "metadata": {},
   "outputs": [
    {
     "data": {
      "text/plain": [
       "[-4.0*covxp**2*eta*kappa + 2*covxp*omega - gamma*varx + gamma*(n + 0.5) + kappa - 4.0*varx**2*eta*kappa,\n",
       " -4.0*covxp**2*eta*kappa - 2*covxp*omega - gamma*varp + gamma*(n + 0.5) + kappa - 4.0*varp**2*eta*kappa,\n",
       " -covxp*gamma - 4.0*covxp*varp*eta*kappa - 4.0*covxp*varx*eta*kappa + omega*varp - omega*varx]"
      ]
     },
     "execution_count": 32,
     "metadata": {},
     "output_type": "execute_result"
    }
   ],
   "source": [
    "gamma = s.Symbol(\"gamma\")\n",
    "omega = s.Symbol(\"omega\") #freq harmonic oscillator\n",
    "eta = s.Symbol(\"eta\") #efficiency measurement (appearing in the CPTP decomposiion X,Y)\n",
    "kappa = s.Symbol(\"kappa\") #efficiency measurement (appearing in the CPTP decomposiion X,Y)\n",
    "n = s.Symbol(\"n\") #n_th\n",
    "\n",
    "C = s.sqrt(4*eta*kappa)*np.eye(2)#np.array([[,0],[0,0]]) #homodyne\n",
    "A = np.array([[-gamma/2, omega],[-omega, -gamma/2]])\n",
    "\n",
    "D = np.diag([(gamma*(n+0.5) + kappa)]*2)\n",
    "Lambda = s.Matrix(np.zeros((2,2)))\n",
    "\n",
    "varx = s.Symbol(\"varx\")\n",
    "varp = s.Symbol(\"varp\")\n",
    "covxp = s.Symbol(\"covxp\")\n",
    "\n",
    "varx_th = s.Symbol(\"varx_th\")\n",
    "varp_th = s.Symbol(\"varp_th\")\n",
    "covxp_th = s.Symbol(\"covxp_th\")\n",
    "\n",
    "cov = s.Matrix([[varx, covxp],[covxp, varp]])\n",
    "cov_th = s.Matrix([[varx_th, covxp_th],[covxp_th, varp_th]])\n",
    "\n",
    "dots = np.array(A*cov + cov*(A.T) + D - (cov*C.T)*(C*cov))\n",
    "\n",
    "[dots[0,0], dots[1,1], dots[0,1]]"
   ]
  },
  {
   "cell_type": "code",
   "execution_count": 33,
   "id": "97edba1b",
   "metadata": {},
   "outputs": [],
   "source": [
    "def ders(varx, varp, covxp, params):\n",
    "    eta, gamma, kappa, omega, n = params\n",
    "    return [-4.0*covxp**2*eta*kappa + 2*covxp*omega - gamma*varx + gamma*(n + 0.5) + kappa - 4.0*varx**2*eta*kappa,\n",
    " -4.0*covxp**2*eta*kappa - 2*covxp*omega - gamma*varp + gamma*(n + 0.5) + kappa - 4.0*varp**2*eta*kappa,\n",
    " -covxp*gamma - 4.0*covxp*varp*eta*kappa - 4.0*covxp*varx*eta*kappa + omega*varp - omega*varx]"
   ]
  },
  {
   "cell_type": "code",
   "execution_count": 56,
   "id": "0d8afea2",
   "metadata": {},
   "outputs": [],
   "source": [
    "params = give_def_params_discrimination(mode=\"frequencies\")\n",
    "gamma_val, omega_val, n_val, eta_val, kappa_val = params[1]"
   ]
  },
  {
   "cell_type": "code",
   "execution_count": 57,
   "id": "ccd41aaf",
   "metadata": {},
   "outputs": [],
   "source": [
    "C_val = np.sqrt(4*eta_val*kappa_val)*np.array([[1,0],[0,1]]) #homodyne\n",
    "A_val = np.array([[-gamma_val/2, omega_val],[-omega_val, -gamma_val/2]])\n",
    "D_val = np.diag([gamma_val*(n_val+0.5) + kappa_val]*2)\n",
    "Lambda_val = np.zeros((2,2))\n",
    "\n",
    "sst = solve_continuous_are(A_val.T, C_val.T, D_val, np.eye(2)) #### A.T because the way it's implemented!\n",
    "varx0, varp0, covxy0 = sst[0,0], sst[1,1], sst[1,0]"
   ]
  },
  {
   "cell_type": "code",
   "execution_count": 58,
   "id": "8d9172f8",
   "metadata": {},
   "outputs": [
    {
     "name": "stdout",
     "output_type": "stream",
     "text": [
      "[-1.3969838619232178e-09, 6.170012056827545e-09, 2.8294380172155797e-09]\n"
     ]
    }
   ],
   "source": [
    "print(ders(varx0, varp0, covxy0, [eta_val, gamma_val, kappa_val, omega_val, n_val]))"
   ]
  },
  {
   "cell_type": "code",
   "execution_count": 59,
   "id": "114d64a6",
   "metadata": {},
   "outputs": [
    {
     "data": {
      "text/plain": [
       "array([[ 5.00024999e-01, -7.11976002e-16],\n",
       "       [-7.11976002e-16,  5.00024999e-01]])"
      ]
     },
     "execution_count": 59,
     "metadata": {},
     "output_type": "execute_result"
    }
   ],
   "source": [
    "sst"
   ]
  },
  {
   "cell_type": "code",
   "execution_count": 65,
   "id": "b2e43db4",
   "metadata": {},
   "outputs": [],
   "source": [
    "def stat(gamma, omega, n, eta, kappa):\n",
    "    suc = n + 0.5 + kappa/gamma\n",
    "    sst = (gamma/(8*eta*kappa))*(np.sqrt(1 + 16*eta*kappa*suc/gamma ) + 1 )\n",
    "    return suc, sst\n",
    "\n",
    "suc0, sst0 = stat(gamma_val, omega_val, n_val, eta_val, kappa_val)\n",
    "varx0, varp0, covxy0 = sst0 ,sst0 ,0."
   ]
  },
  {
   "cell_type": "code",
   "execution_count": 71,
   "id": "9e5c3803",
   "metadata": {},
   "outputs": [
    {
     "data": {
      "text/plain": [
       "[100, 10000.0, 1, 1, 1000000.0]"
      ]
     },
     "execution_count": 71,
     "metadata": {},
     "output_type": "execute_result"
    }
   ],
   "source": [
    "params = give_def_params_discrimination(mode=\"frequencies\")\n",
    "gamma_val, omega_val, n_val, eta_val, kappa_val = params[1]\n",
    "params[1]"
   ]
  },
  {
   "cell_type": "code",
   "execution_count": 72,
   "id": "4be0e611",
   "metadata": {},
   "outputs": [],
   "source": [
    "gamma_val, omega_val, n_val, eta_val, kappa_val = 1, 1, 1, 1, 1"
   ]
  },
  {
   "cell_type": "code",
   "execution_count": 73,
   "id": "487651c2",
   "metadata": {},
   "outputs": [
    {
     "data": {
      "text/plain": [
       "0.125"
      ]
     },
     "execution_count": 73,
     "metadata": {},
     "output_type": "execute_result"
    }
   ],
   "source": [
    "(gamma_val/(8*eta_val*kappa_val))"
   ]
  },
  {
   "cell_type": "code",
   "execution_count": 107,
   "id": "20107e0f",
   "metadata": {},
   "outputs": [],
   "source": [
    "def stat(gamma, omega, n, eta, kappa):\n",
    "    suc = n + 0.5 + kappa/gamma\n",
    "    sst = (gamma/(8*eta*kappa))*(np.sqrt(1 + 16*eta*kappa*suc/gamma ) - 1 )\n",
    "    return suc, sst\n",
    "\n",
    "suc0, sst0 = stat(gamma_val, omega_val, n_val, eta_val, kappa_val)\n",
    "varx0, varp0, covxy0 = sst0 ,sst0 ,0."
   ]
  },
  {
   "cell_type": "code",
   "execution_count": 105,
   "id": "0b9993fc",
   "metadata": {},
   "outputs": [
    {
     "data": {
      "text/plain": [
       "0.9253905296791061"
      ]
     },
     "execution_count": 105,
     "metadata": {},
     "output_type": "execute_result"
    }
   ],
   "source": [
    "varx0"
   ]
  },
  {
   "cell_type": "code",
   "execution_count": 101,
   "id": "423ff4ac",
   "metadata": {},
   "outputs": [],
   "source": [
    "C_val = np.sqrt(4*eta_val*kappa_val)*np.array([[1,0],[0,1]]) #homodyne\n",
    "A_val = np.array([[-gamma_val/2, omega_val],[-omega_val, -gamma_val/2]])\n",
    "D_val = np.diag([gamma_val*(n_val+0.5) + kappa_val]*2)\n",
    "Lambda_val = np.zeros((2,2))\n",
    "\n",
    "sst = solve_continuous_are(A_val.T, C_val.T, D_val, np.eye(2)) #### A.T because the way it's implemented!\n",
    "varx0, varp0, covxy0 = sst[0,0], sst[1,1], sst[1,0]"
   ]
  },
  {
   "cell_type": "code",
   "execution_count": 108,
   "id": "9220daab",
   "metadata": {},
   "outputs": [
    {
     "name": "stdout",
     "output_type": "stream",
     "text": [
      "[2.220446049250313e-16, 2.220446049250313e-16, 0.0]\n"
     ]
    }
   ],
   "source": [
    "print(ders(varx0, varp0, covxy0, [eta_val, gamma_val, kappa_val, omega_val, n_val]))"
   ]
  },
  {
   "attachments": {
    "image.png": {
     "image/png": "[encoded data removed]"
    }
   },
   "cell_type": "markdown",
   "id": "431fb000",
   "metadata": {},
   "source": [
    "![image.png](attachment:image.png)"
   ]
  },
  {
   "cell_type": "code",
   "execution_count": null,
   "id": "9f7c8679",
   "metadata": {},
   "outputs": [],
   "source": []
  },
  {
   "cell_type": "code",
   "execution_count": null,
   "id": "c0a63868",
   "metadata": {},
   "outputs": [],
   "source": []
  },
  {
   "cell_type": "code",
   "execution_count": null,
   "id": "3d724656",
   "metadata": {},
   "outputs": [],
   "source": []
  },
  {
   "cell_type": "code",
   "execution_count": null,
   "id": "184673fb",
   "metadata": {},
   "outputs": [],
   "source": []
  },
  {
   "cell_type": "code",
   "execution_count": 48,
   "id": "c6f6e513",
   "metadata": {},
   "outputs": [],
   "source": [
    "varss = []\n",
    "\n",
    "for omega_val in np.linspace(1e-6,1e6, 1000):\n",
    "\n",
    "    C_val = np.sqrt(4*eta_val*kappa_val)*np.array([[1,0],[0,1]]) #homodyne\n",
    "    A_val = np.array([[-gamma_val/2, omega_val],[-omega_val, -gamma_val/2]])\n",
    "    D_val = np.diag([gamma_val*(n_val+0.5) + kappa_val]*2)\n",
    "    Lambda_val = np.zeros((2,2))\n",
    "\n",
    "    sst = solve_continuous_are(A_val.T, C_val.T, D_val, np.eye(2)) #### A.T because the way it's implemented!\n",
    "    varx0, varp0, covxy0 = sst[0,0], sst[1,1], sst[1,0]\n",
    "\n",
    "    varss.append([varx0, varp0, covxy0])"
   ]
  },
  {
   "cell_type": "code",
   "execution_count": 49,
   "id": "db5dbd39",
   "metadata": {},
   "outputs": [],
   "source": [
    "varss = np.array(varss)"
   ]
  },
  {
   "cell_type": "code",
   "execution_count": 55,
   "id": "9e49134b",
   "metadata": {},
   "outputs": [
    {
     "data": {
      "text/plain": [
       "4.6024727631962825e-15"
      ]
     },
     "execution_count": 55,
     "metadata": {},
     "output_type": "execute_result"
    }
   ],
   "source": [
    "np.std(varss[:,2])"
   ]
  },
  {
   "cell_type": "code",
   "execution_count": 52,
   "id": "fec2e6c1",
   "metadata": {},
   "outputs": [
    {
     "data": {
      "text/plain": [
       "[<matplotlib.lines.Line2D at 0x7f658611f070>]"
      ]
     },
     "execution_count": 52,
     "metadata": {},
     "output_type": "execute_result"
    },
    {
     "data": {
      "image/png": "[encoded data removed]",
      "text/plain": [
       "<Figure size 432x288 with 1 Axes>"
      ]
     },
     "metadata": {
      "needs_background": "light"
     },
     "output_type": "display_data"
    }
   ],
   "source": [
    "plt.plot(varss[:,0])"
   ]
  },
  {
   "cell_type": "code",
   "execution_count": 44,
   "id": "27619436",
   "metadata": {},
   "outputs": [],
   "source": [
    "stats = np.array([stat(gamma_val, omega_val, n_val, eta_val, kappa_val) for omega_val in np.linspace(1,1e6,10000)])"
   ]
  },
  {
   "cell_type": "code",
   "execution_count": 47,
   "id": "24956de4",
   "metadata": {},
   "outputs": [
    {
     "data": {
      "text/plain": [
       "[<matplotlib.lines.Line2D at 0x7f6586243490>]"
      ]
     },
     "execution_count": 47,
     "metadata": {},
     "output_type": "execute_result"
    },
    {
     "data": {
      "image/png": "[encoded data removed]",
      "text/plain": [
       "<Figure size 432x288 with 1 Axes>"
      ]
     },
     "metadata": {
      "needs_background": "light"
     },
     "output_type": "display_data"
    }
   ],
   "source": [
    "plt.plot(stats[:,0])"
   ]
  },
  {
   "cell_type": "code",
   "execution_count": 39,
   "id": "0032cdae",
   "metadata": {},
   "outputs": [],
   "source": [
    "params = give_def_params_discrimination()\n",
    "gamma, gamma1, omega, omega1, n, n1, eta, kappa = params"
   ]
  },
  {
   "cell_type": "code",
   "execution_count": 41,
   "id": "cdc420b6",
   "metadata": {},
   "outputs": [
    {
     "data": {
      "text/plain": [
       "1.2999999999999998"
      ]
     },
     "execution_count": 41,
     "metadata": {},
     "output_type": "execute_result"
    }
   ],
   "source": [
    "\n",
    "suc = n + 0.5 + kappa/gamma\n",
    "sst = (gamma/(8*eta*kappa))*(np.sqrt(1 + 16*eta*kappa*smu0/gamma ) -1 )\n",
    "sst"
   ]
  },
  {
   "cell_type": "code",
   "execution_count": 48,
   "id": "cd414a35",
   "metadata": {},
   "outputs": [
    {
     "data": {
      "text/plain": [
       "1.2999999999999998"
      ]
     },
     "execution_count": 48,
     "metadata": {},
     "output_type": "execute_result"
    }
   ],
   "source": [
    "\n",
    "suc = n + 0.5 + kappa/gamma\n",
    "sst = (gamma/(8*eta*kappa))*(np.sqrt(1 + 16*eta*kappa*suc/gamma ) -1 )\n",
    "sst"
   ]
  },
  {
   "cell_type": "code",
   "execution_count": 57,
   "id": "795e40be",
   "metadata": {},
   "outputs": [
    {
     "data": {
      "text/plain": [
       "6.1499999999999995"
      ]
     },
     "execution_count": 57,
     "metadata": {},
     "output_type": "execute_result"
    }
   ],
   "source": [
    "gamma*(n+0.5)"
   ]
  },
  {
   "cell_type": "code",
   "execution_count": 5,
   "id": "ffc06aa1",
   "metadata": {},
   "outputs": [
    {
     "data": {
      "text/plain": [
       "1.0"
      ]
     },
     "execution_count": 5,
     "metadata": {},
     "output_type": "execute_result"
    }
   ],
   "source": [
    "c = np.dot(np.eye(2),np.array([0,1]))\n",
    "np.dot(c,c)"
   ]
  },
  {
   "cell_type": "code",
   "execution_count": null,
   "id": "198d0682",
   "metadata": {},
   "outputs": [],
   "source": [
    "print(dots)\n",
    "\n",
    "def ders(varx, varp, covxp, params):\n",
    "    eta, gamma, kappa, omega, n = params\n",
    "    return [2*covxp*omega - 2*eta*kappa*(varx**2) - gamma*varx + gamma*(n + 0.5),\n",
    "  -2*covxp*eta*kappa*varx - covxp*gamma + omega*varp - omega*varx,\n",
    "  -2*(covxp**2)*eta*kappa - 2*covxp*omega - gamma*varp + gamma*(n + 0.5)]"
   ]
  },
  {
   "cell_type": "code",
   "execution_count": 18,
   "id": "2897258d",
   "metadata": {},
   "outputs": [
    {
     "data": {
      "text/plain": [
       "[2*covxp + 2*covxp_th*omega - 4*eta*kappa*varx*varx_th - gamma*varx_th,\n",
       " -2*covxp*eta*kappa*varx_th - 2*covxp_th*eta*kappa*varx - covxp_th*gamma + omega*varp_th - omega*varx_th + varp - varx,\n",
       " -4*covxp*covxp_th*eta*kappa - 2*covxp - 2*covxp_th*omega - gamma*varp_th]"
      ]
     },
     "execution_count": 18,
     "metadata": {},
     "output_type": "execute_result"
    }
   ],
   "source": [
    "varx = s.Symbol(\"varx\")\n",
    "varp = s.Symbol(\"varp\")\n",
    "covxp = s.Symbol(\"covxp\")\n",
    "\n",
    "varx_th = s.Symbol(\"varx_th\")\n",
    "varp_th = s.Symbol(\"varp_th\")\n",
    "covxp_th = s.Symbol(\"covxp_th\")\n",
    "\n",
    "cov = s.Matrix([[varx, covxp],[covxp, varp]])\n",
    "cov_th = s.Matrix([[varx_th, covxp_th],[covxp_th, varp_th]])\n",
    "\n",
    "\n",
    "dots_th = np.array(A_th*cov + cov*(A_th.T) + cov_th*(A.T) + A*cov_th   - cov_th*C.T*C*cov - cov*C.T*C*cov_th)\n",
    "[dots_th[0,0], dots_th[0,1], dots_th[1,1]]"
   ]
  },
  {
   "cell_type": "code",
   "execution_count": 19,
   "id": "2b353728",
   "metadata": {},
   "outputs": [],
   "source": [
    "ders_cov_th = lambda varx, varp, covxp, varx_th, varp_th, covxp_th: [2*covxp + 2*covxp_th*omega - 4*eta*kappa*varx*varx_th - gamma*varx_th,\n",
    " -2*covxp*eta*kappa*varx_th - 2*covxp_th*eta*kappa*varx - covxp_th*gamma + omega*varp_th - omega*varx_th + varp - varx,\n",
    " -4*covxp*covxp_th*eta*kappa - 2*covxp - 2*covxp_th*omega - gamma*varp_th]"
   ]
  },
  {
   "cell_type": "code",
   "execution_count": 20,
   "id": "bfe3ffed",
   "metadata": {},
   "outputs": [
    {
     "data": {
      "text/plain": [
       "[2*covxp + 2*covxp_th*omega - 4*eta*kappa*varx*varx_th - gamma*varx_th,\n",
       " -2*covxp*eta*kappa*varx_th - 2*covxp_th*eta*kappa*varx - covxp_th*gamma + omega*varp_th - omega*varx_th + varp - varx,\n",
       " -4*covxp*covxp_th*eta*kappa - 2*covxp - 2*covxp_th*omega - gamma*varp_th]"
      ]
     },
     "execution_count": 20,
     "metadata": {},
     "output_type": "execute_result"
    }
   ],
   "source": [
    "ders_cov_th(varx, varp, covxp, varx_th, varp_th, covxp_th)"
   ]
  },
  {
   "cell_type": "code",
   "execution_count": null,
   "id": "40b694aa",
   "metadata": {},
   "outputs": [],
   "source": []
  },
  {
   "cell_type": "code",
   "execution_count": 156,
   "id": "abb9c7ba",
   "metadata": {},
   "outputs": [
    {
     "name": "stdout",
     "output_type": "stream",
     "text": [
      "[1.7703996491036378e-08, 5.587935447692871e-09, 1.4474835552391596e-08]\n"
     ]
    }
   ],
   "source": [
    "params = give_def_params()\n",
    "[eta_val, gamma_val, kappa_val, omega_val, n_val] = params\n",
    "\n",
    "C_val = np.array([[np.sqrt(2*eta_val*kappa_val),0],[0,0]]) #homodyne\n",
    "A_val = np.array([[-gamma_val/2, omega_val],[-omega_val, -gamma_val/2]])\n",
    "D_val = np.diag([(gamma_val*(n_val+0.5))]*2)\n",
    "Lambda_val = np.zeros((2,2))\n",
    "\n",
    "sst = solve_continuous_are(A_val.T, C_val.T, D_val, np.eye(2)) #### A.T because the way it's implemented!\n",
    "varx0, varp0, covxy0 = sst[0,0], sst[1,1], sst[1,0]\n",
    "\n",
    "#ders = lambda varx, varp, covxp: [2*covxp*omega - 2*eta*kappa*varx**2 - gamma*varx + gamma*(n + 0.5), -2*covxp*eta*kappa*varx - covxp*gamma + omega*varp - omega*varx, -2*covxp**2*eta*kappa - 2*covxp*omega - gamma*varp + gamma*(n + 0.5)]\n",
    "print(ders(varx0, varp0, covxy0, [eta_val, gamma_val, kappa_val, omega_val, n_val]))"
   ]
  },
  {
   "cell_type": "code",
   "execution_count": 157,
   "id": "56d68d8d",
   "metadata": {},
   "outputs": [
    {
     "data": {
      "text/plain": [
       "array([[1.36861098e+00, 1.09428240e-04],\n",
       "       [1.09428240e-04, 1.36861102e+00]])"
      ]
     },
     "execution_count": 157,
     "metadata": {},
     "output_type": "execute_result"
    }
   ],
   "source": [
    "sst"
   ]
  },
  {
   "cell_type": "code",
   "execution_count": null,
   "id": "2216fa64",
   "metadata": {},
   "outputs": [],
   "source": []
  },
  {
   "cell_type": "code",
   "execution_count": 20,
   "id": "f59d99cd",
   "metadata": {},
   "outputs": [
    {
     "data": {
      "text/plain": [
       "3"
      ]
     },
     "execution_count": 20,
     "metadata": {},
     "output_type": "execute_result"
    }
   ],
   "source": [
    "dw = np.random.randn(12,3)\n",
    "dw.shape[1]"
   ]
  },
  {
   "cell_type": "code",
   "execution_count": null,
   "id": "b9050b95",
   "metadata": {},
   "outputs": [],
   "source": []
  },
  {
   "cell_type": "code",
   "execution_count": 106,
   "id": "fbad9e44",
   "metadata": {},
   "outputs": [
    {
     "data": {
      "text/plain": [
       "array([[1.36861098e+00, 1.09428240e-04],\n",
       "       [1.09428240e-04, 1.36861102e+00]])"
      ]
     },
     "execution_count": 106,
     "metadata": {},
     "output_type": "execute_result"
    }
   ],
   "source": [
    "sst = solve_continuous_are(a = A_val.T,b = C_val.T, q= D_val,r= np.eye(2), balanced=False)\n",
    "sst"
   ]
  },
  {
   "cell_type": "code",
   "execution_count": null,
   "id": "fd7d6cb1",
   "metadata": {},
   "outputs": [],
   "source": []
  },
  {
   "cell_type": "code",
   "execution_count": 57,
   "id": "d64ba687",
   "metadata": {},
   "outputs": [
    {
     "data": {
      "text/plain": [
       "array([[-3.74619203330648*eta*kappa + gamma*(n + 0.5) - 1.36861098075868*gamma - 0.000218856480240049*omega,\n",
       "        0.000299529382066727*eta*kappa + 0.000109428240120025*gamma + 3.68214481127893e-8*omega],\n",
       "       [0.000299529382066727*eta*kappa + 0.000109428240120025*gamma + 3.68214481127893e-8*omega,\n",
       "        -2.39490794715316e-8*eta*kappa + gamma*(n + 0.5) - 1.36861101758013*gamma + 0.000218856480240049*omega]],\n",
       "      dtype=object)"
      ]
     },
     "execution_count": 57,
     "metadata": {},
     "output_type": "execute_result"
    }
   ],
   "source": [
    "dots = np.array(A_val*cov + cov*A_val.T + D_val - (cov*(C_val.T) + Lambda_val.T)*((cov*(C_val.T) + Lambda_val.T)).T)\n"
   ]
  },
  {
   "cell_type": "code",
   "execution_count": 68,
   "id": "1d0a277b",
   "metadata": {},
   "outputs": [],
   "source": [
    "gamma = s.Symbol(\"gamma\")\n",
    "omega = s.Symbol(\"omega\") #freq harmonic oscillator\n",
    "eta = s.Symbol(\"eta\") #efficiency measurement (appearing in the CPTP decomposiion X,Y)\n",
    "kappa = s.Symbol(\"kappa\") #efficiency measurement (appearing in the CPTP decomposiion X,Y)\n",
    "n = s.Symbol(\"n\") #n_th\n",
    "\n",
    "C = np.array([[s.sqrt(2*eta*kappa),0],[0,0]]) #homodyne\n",
    "A = np.array([[-gamma/2, omega],[-omega, -gamma/2]])\n",
    "D = np.diag([(gamma*(n+0.5))]*2)\n",
    "Lambda = s.Matrix(np.zeros((2,2)))\n",
    "\n",
    "varx = s.Symbol(\"varx\")\n",
    "varp = s.Symbol(\"varp\")\n",
    "covxp = s.Symbol(\"covxp\")\n",
    "\n",
    "cov = s.Matrix([[varx, covxp],[covxp, varp]])\n",
    "dots = np.array(A*cov + cov*A.T + D - (cov*(C.T) + Lambda.T)*((cov*(C.T) + Lambda.T)).T)"
   ]
  },
  {
   "cell_type": "code",
   "execution_count": 69,
   "id": "55bbf9b5",
   "metadata": {},
   "outputs": [
    {
     "data": {
      "text/plain": [
       "array([[2*covxp*omega - 2*eta*kappa*varx**2 - gamma*varx + gamma*(n + 0.5),\n",
       "        -2*covxp*eta*kappa*varx - covxp*gamma + omega*varp - omega*varx],\n",
       "       [-2*covxp*eta*kappa*varx - covxp*gamma + omega*varp - omega*varx,\n",
       "        -2*covxp**2*eta*kappa - 2*covxp*omega - gamma*varp + gamma*(n + 0.5)]],\n",
       "      dtype=object)"
      ]
     },
     "execution_count": 69,
     "metadata": {},
     "output_type": "execute_result"
    }
   ],
   "source": [
    "dots"
   ]
  },
  {
   "cell_type": "code",
   "execution_count": null,
   "id": "e571c475",
   "metadata": {},
   "outputs": [],
   "source": []
  },
  {
   "cell_type": "code",
   "execution_count": null,
   "id": "9ecd9cef",
   "metadata": {},
   "outputs": [],
   "source": []
  },
  {
   "cell_type": "code",
   "execution_count": 20,
   "id": "952c5a13",
   "metadata": {},
   "outputs": [],
   "source": []
  },
  {
   "cell_type": "code",
   "execution_count": 25,
   "id": "8d5a2228",
   "metadata": {},
   "outputs": [],
   "source": [
    "\n",
    "params[-2] = 0.04\n",
    "omega = params[-2]\n",
    "C = np.array([[np.sqrt(2*eta*kappa),0],[0,0]]) #homodyne\n",
    "A = np.array([[-gamma/2, omega],[-omega, -gamma/2]])\n",
    "D = np.diag([(gamma*(n+0.5))]*2)\n",
    "Lambda = np.zeros((2,2))"
   ]
  },
  {
   "cell_type": "code",
   "execution_count": 26,
   "id": "3425de57",
   "metadata": {},
   "outputs": [],
   "source": []
  },
  {
   "cell_type": "code",
   "execution_count": 27,
   "id": "6f2652cb",
   "metadata": {},
   "outputs": [
    {
     "data": {
      "text/plain": [
       "[-4.9075142669607885e-05, 1.0814478324940298, 4.907514744445507e-05]"
      ]
     },
     "execution_count": 27,
     "metadata": {},
     "output_type": "execute_result"
    }
   ],
   "source": []
  },
  {
   "cell_type": "code",
   "execution_count": 24,
   "id": "3159e438",
   "metadata": {},
   "outputs": [
    {
     "data": {
      "text/plain": [
       "array([[ 1.36861098e+00, -1.09428240e-04],\n",
       "       [-1.09428240e-04,  1.36861102e+00]])"
      ]
     },
     "execution_count": 24,
     "metadata": {},
     "output_type": "execute_result"
    }
   ],
   "source": [
    "sst"
   ]
  },
  {
   "cell_type": "code",
   "execution_count": null,
   "id": "dd55cce7",
   "metadata": {},
   "outputs": [],
   "source": []
  },
  {
   "cell_type": "code",
   "execution_count": null,
   "id": "62d7baa6",
   "metadata": {},
   "outputs": [],
   "source": []
  },
  {
   "cell_type": "code",
   "execution_count": null,
   "id": "1fb19778",
   "metadata": {},
   "outputs": [],
   "source": []
  },
  {
   "cell_type": "code",
   "execution_count": null,
   "id": "3bfe3452",
   "metadata": {},
   "outputs": [],
   "source": [
    "N = s.Symbol(\"N\") #n_th\n"
   ]
  },
  {
   "cell_type": "code",
   "execution_count": 24,
   "id": "333c4bdd",
   "metadata": {},
   "outputs": [],
   "source": [
    "Cint = -s.sqrt(gamma)*Omega # -\\ii \\Sigma_y\n",
    "\n",
    "aint = Omega*Cint*Omega*(Cint.T)/2\n",
    "Hs = s.eye(2)*omega\n",
    "asys = Omega*Hs\n",
    "A_matrix = aint + asys ##drift matrix\n",
    "#D_matrix = Omega*Cint*sigma_b*(Omega*Cint).T  #difussion matrix\n",
    "D_matrix = s.Matrix(np.diag([gamma*(n + 0.5)]*2))\n",
    "Gamma_matrix = s.Matrix(np.zeros((2,2)))\n",
    "C_matrix = s.Matrix(np.array([[s.sqrt(2*eta*kappa),0],[0,0]]))"
   ]
  },
  {
   "cell_type": "code",
   "execution_count": 25,
   "id": "cca5c105",
   "metadata": {},
   "outputs": [],
   "source": [
    "varx, varp, covxp = [s.Symbol(k) for k in [\"varx\",\"varp\",\"covxp\"]]\n",
    "cov = s.Matrix([[varx, covxp],[covxp, varp]])\n",
    "\n",
    "ChiCov = cov*C_matrix.T + Gamma_matrix.T"
   ]
  },
  {
   "cell_type": "code",
   "execution_count": 26,
   "id": "258b7470",
   "metadata": {},
   "outputs": [
    {
     "data": {
      "text/plain": [
       "[(-2*covxp**2*eta*kappa + 2*covxp*omega - gamma*varx + gamma*(n + 0.5) - 2*varx**2*eta*kappa,\n",
       "  -covxp*gamma + omega*varp - omega*varx,\n",
       "  -2*covxp*omega - gamma*varp + gamma*(n + 0.5))]"
      ]
     },
     "execution_count": 26,
     "metadata": {},
     "output_type": "execute_result"
    }
   ],
   "source": [
    "dots = np.array(A_matrix*cov + cov*A_matrix.T + D_matrix - ChiCov.T*ChiCov)\n",
    "ders = dots[0,0], dots[0,1], dots[1,1]\n",
    "[ders]"
   ]
  },
  {
   "cell_type": "code",
   "execution_count": 27,
   "id": "b9077f33",
   "metadata": {},
   "outputs": [],
   "source": [
    "#noisy heterodyne measurement\n",
    "S = s.eye(2) \n",
    "sigma_m = S*(S.T)\n",
    "##lossy part\n",
    "Xstar = s.eye(2)/s.sqrt(eta)\n",
    "Ystar = s.eye(2)*(1-eta)/eta\n",
    "sigma_noisy_m = Xstar*(sigma_m)*(Xstar.T) + Ystar\n",
    "\n",
    "# state of B, subsystem being measured\n",
    "sigma_b = (2*N +1)*s.eye(2)\n",
    "\n",
    "Gamma_matrix = Omega*Cint*sigma_b   #auxiliar matrix for the ricatti\n",
    "\n",
    "C_matrix = (Cint*Omega*(sigma_b + sigma_noisy_m)**(-1/2)).T"
   ]
  },
  {
   "cell_type": "code",
   "execution_count": 28,
   "id": "5e5bf15c",
   "metadata": {},
   "outputs": [
    {
     "ename": "TypeError",
     "evalue": "can't convert expression to float",
     "output_type": "error",
     "traceback": [
      "\u001b[0;31m---------------------------------------------------------------------------\u001b[0m",
      "\u001b[0;31mTypeError\u001b[0m                                 Traceback (most recent call last)",
      "\u001b[0;32m<ipython-input-28-9ac82dc38864>\u001b[0m in \u001b[0;36m<module>\u001b[0;34m\u001b[0m\n\u001b[1;32m      4\u001b[0m \u001b[0mB_matrix\u001b[0m \u001b[0;34m=\u001b[0m \u001b[0mCint\u001b[0m\u001b[0;34m*\u001b[0m\u001b[0mOmega\u001b[0m\u001b[0;34m*\u001b[0m\u001b[0;34m(\u001b[0m\u001b[0msigma_b\u001b[0m \u001b[0;34m+\u001b[0m \u001b[0msigma_noisy_m\u001b[0m\u001b[0;34m)\u001b[0m\u001b[0;34m**\u001b[0m\u001b[0;34m(\u001b[0m\u001b[0;34m-\u001b[0m\u001b[0;36m1\u001b[0m\u001b[0;34m/\u001b[0m\u001b[0;36m2\u001b[0m\u001b[0;34m)\u001b[0m\u001b[0;34m\u001b[0m\u001b[0;34m\u001b[0m\u001b[0m\n\u001b[1;32m      5\u001b[0m \u001b[0;34m\u001b[0m\u001b[0m\n\u001b[0;32m----> 6\u001b[0;31m \u001b[0mAr\u001b[0m\u001b[0;34m,\u001b[0m \u001b[0mBr\u001b[0m\u001b[0;34m,\u001b[0m \u001b[0mDr\u001b[0m \u001b[0;34m=\u001b[0m \u001b[0;34m[\u001b[0m\u001b[0mnp\u001b[0m\u001b[0;34m.\u001b[0m\u001b[0marray\u001b[0m\u001b[0;34m(\u001b[0m\u001b[0mk\u001b[0m\u001b[0;34m.\u001b[0m\u001b[0msubs\u001b[0m\u001b[0;34m(\u001b[0m\u001b[0;34m{\u001b[0m\u001b[0momega\u001b[0m\u001b[0;34m:\u001b[0m\u001b[0;36m2\u001b[0m\u001b[0;34m*\u001b[0m\u001b[0mnp\u001b[0m\u001b[0;34m.\u001b[0m\u001b[0mpi\u001b[0m\u001b[0;34m,\u001b[0m \u001b[0mN\u001b[0m\u001b[0;34m:\u001b[0m\u001b[0;36m2\u001b[0m\u001b[0;34m,\u001b[0m \u001b[0meta\u001b[0m\u001b[0;34m:\u001b[0m\u001b[0;36m0.8\u001b[0m\u001b[0;34m,\u001b[0m \u001b[0mgamma\u001b[0m\u001b[0;34m:\u001b[0m\u001b[0;36m0.3\u001b[0m\u001b[0;34m}\u001b[0m\u001b[0;34m)\u001b[0m\u001b[0;34m)\u001b[0m\u001b[0;34m.\u001b[0m\u001b[0mastype\u001b[0m\u001b[0;34m(\u001b[0m\u001b[0mnp\u001b[0m\u001b[0;34m.\u001b[0m\u001b[0mfloat32\u001b[0m\u001b[0;34m)\u001b[0m \u001b[0;32mfor\u001b[0m \u001b[0mk\u001b[0m \u001b[0;32min\u001b[0m \u001b[0;34m[\u001b[0m\u001b[0mA_tilde_matrix\u001b[0m\u001b[0;34m,\u001b[0m \u001b[0mB_matrix\u001b[0m\u001b[0;34m,\u001b[0m \u001b[0mD_tilde_matrix\u001b[0m\u001b[0;34m]\u001b[0m\u001b[0;34m]\u001b[0m\u001b[0;34m\u001b[0m\u001b[0;34m\u001b[0m\u001b[0m\n\u001b[0m",
      "\u001b[0;32m<ipython-input-28-9ac82dc38864>\u001b[0m in \u001b[0;36m<listcomp>\u001b[0;34m(.0)\u001b[0m\n\u001b[1;32m      4\u001b[0m \u001b[0mB_matrix\u001b[0m \u001b[0;34m=\u001b[0m \u001b[0mCint\u001b[0m\u001b[0;34m*\u001b[0m\u001b[0mOmega\u001b[0m\u001b[0;34m*\u001b[0m\u001b[0;34m(\u001b[0m\u001b[0msigma_b\u001b[0m \u001b[0;34m+\u001b[0m \u001b[0msigma_noisy_m\u001b[0m\u001b[0;34m)\u001b[0m\u001b[0;34m**\u001b[0m\u001b[0;34m(\u001b[0m\u001b[0;34m-\u001b[0m\u001b[0;36m1\u001b[0m\u001b[0;34m/\u001b[0m\u001b[0;36m2\u001b[0m\u001b[0;34m)\u001b[0m\u001b[0;34m\u001b[0m\u001b[0;34m\u001b[0m\u001b[0m\n\u001b[1;32m      5\u001b[0m \u001b[0;34m\u001b[0m\u001b[0m\n\u001b[0;32m----> 6\u001b[0;31m \u001b[0mAr\u001b[0m\u001b[0;34m,\u001b[0m \u001b[0mBr\u001b[0m\u001b[0;34m,\u001b[0m \u001b[0mDr\u001b[0m \u001b[0;34m=\u001b[0m \u001b[0;34m[\u001b[0m\u001b[0mnp\u001b[0m\u001b[0;34m.\u001b[0m\u001b[0marray\u001b[0m\u001b[0;34m(\u001b[0m\u001b[0mk\u001b[0m\u001b[0;34m.\u001b[0m\u001b[0msubs\u001b[0m\u001b[0;34m(\u001b[0m\u001b[0;34m{\u001b[0m\u001b[0momega\u001b[0m\u001b[0;34m:\u001b[0m\u001b[0;36m2\u001b[0m\u001b[0;34m*\u001b[0m\u001b[0mnp\u001b[0m\u001b[0;34m.\u001b[0m\u001b[0mpi\u001b[0m\u001b[0;34m,\u001b[0m \u001b[0mN\u001b[0m\u001b[0;34m:\u001b[0m\u001b[0;36m2\u001b[0m\u001b[0;34m,\u001b[0m \u001b[0meta\u001b[0m\u001b[0;34m:\u001b[0m\u001b[0;36m0.8\u001b[0m\u001b[0;34m,\u001b[0m \u001b[0mgamma\u001b[0m\u001b[0;34m:\u001b[0m\u001b[0;36m0.3\u001b[0m\u001b[0;34m}\u001b[0m\u001b[0;34m)\u001b[0m\u001b[0;34m)\u001b[0m\u001b[0;34m.\u001b[0m\u001b[0mastype\u001b[0m\u001b[0;34m(\u001b[0m\u001b[0mnp\u001b[0m\u001b[0;34m.\u001b[0m\u001b[0mfloat32\u001b[0m\u001b[0;34m)\u001b[0m \u001b[0;32mfor\u001b[0m \u001b[0mk\u001b[0m \u001b[0;32min\u001b[0m \u001b[0;34m[\u001b[0m\u001b[0mA_tilde_matrix\u001b[0m\u001b[0;34m,\u001b[0m \u001b[0mB_matrix\u001b[0m\u001b[0;34m,\u001b[0m \u001b[0mD_tilde_matrix\u001b[0m\u001b[0;34m]\u001b[0m\u001b[0;34m]\u001b[0m\u001b[0;34m\u001b[0m\u001b[0;34m\u001b[0m\u001b[0m\n\u001b[0m",
      "\u001b[0;32m~/.local/lib/python3.6/site-packages/sympy/core/expr.py\u001b[0m in \u001b[0;36m__float__\u001b[0;34m(self)\u001b[0m\n\u001b[1;32m    323\u001b[0m         \u001b[0;32mif\u001b[0m \u001b[0mresult\u001b[0m\u001b[0;34m.\u001b[0m\u001b[0mis_number\u001b[0m \u001b[0;32mand\u001b[0m \u001b[0mresult\u001b[0m\u001b[0;34m.\u001b[0m\u001b[0mas_real_imag\u001b[0m\u001b[0;34m(\u001b[0m\u001b[0;34m)\u001b[0m\u001b[0;34m[\u001b[0m\u001b[0;36m1\u001b[0m\u001b[0;34m]\u001b[0m\u001b[0;34m:\u001b[0m\u001b[0;34m\u001b[0m\u001b[0;34m\u001b[0m\u001b[0m\n\u001b[1;32m    324\u001b[0m             \u001b[0;32mraise\u001b[0m \u001b[0mTypeError\u001b[0m\u001b[0;34m(\u001b[0m\u001b[0;34m\"can't convert complex to float\"\u001b[0m\u001b[0;34m)\u001b[0m\u001b[0;34m\u001b[0m\u001b[0;34m\u001b[0m\u001b[0m\n\u001b[0;32m--> 325\u001b[0;31m         \u001b[0;32mraise\u001b[0m \u001b[0mTypeError\u001b[0m\u001b[0;34m(\u001b[0m\u001b[0;34m\"can't convert expression to float\"\u001b[0m\u001b[0;34m)\u001b[0m\u001b[0;34m\u001b[0m\u001b[0;34m\u001b[0m\u001b[0m\n\u001b[0m\u001b[1;32m    326\u001b[0m \u001b[0;34m\u001b[0m\u001b[0m\n\u001b[1;32m    327\u001b[0m     \u001b[0;32mdef\u001b[0m \u001b[0m__complex__\u001b[0m\u001b[0;34m(\u001b[0m\u001b[0mself\u001b[0m\u001b[0;34m)\u001b[0m\u001b[0;34m:\u001b[0m\u001b[0;34m\u001b[0m\u001b[0;34m\u001b[0m\u001b[0m\n",
      "\u001b[0;31mTypeError\u001b[0m: can't convert expression to float"
     ]
    }
   ],
   "source": [
    "from scipy.linalg import solve_continuous_are\n",
    "A_tilde_matrix = A_matrix - (Omega*Cint*sigma_b*((sigma_b + sigma_noisy_m)**(-1))*Omega*Cint.T   )\n",
    "D_tilde_matrix = D_matrix + (Omega*Cint*sigma_b*((sigma_b + sigma_noisy_m)**(-1))*sigma_b*Cint.T*Omega)\n",
    "B_matrix = Cint*Omega*(sigma_b + sigma_noisy_m)**(-1/2)\n",
    "\n",
    "Ar, Br, Dr = [np.array(k.subs({omega:2*np.pi, N:2, eta:0.8, gamma:0.3})).astype(np.float32) for k in [A_tilde_matrix, B_matrix, D_tilde_matrix]]"
   ]
  },
  {
   "cell_type": "code",
   "execution_count": null,
   "id": "46b057df",
   "metadata": {},
   "outputs": [],
   "source": []
  },
  {
   "cell_type": "code",
   "execution_count": null,
   "id": "ccb3f058",
   "metadata": {},
   "outputs": [],
   "source": []
  },
  {
   "cell_type": "code",
   "execution_count": null,
   "id": "d053fe54",
   "metadata": {},
   "outputs": [],
   "source": []
  },
  {
   "cell_type": "code",
   "execution_count": null,
   "id": "cddc316e",
   "metadata": {},
   "outputs": [],
   "source": []
  },
  {
   "cell_type": "code",
   "execution_count": 6,
   "id": "26fed734",
   "metadata": {},
   "outputs": [
    {
     "name": "stdout",
     "output_type": "stream",
     "text": [
      "Matrix([[-sqrt(gamma)*pb*xs + sqrt(gamma)*ps*xb]])\n"
     ]
    }
   ],
   "source": [
    "## interaction hamiltonian between the train of modes being measured and system\n",
    "\n",
    "Cint = -s.sqrt(gamma)*Omega # -\\ii \\Sigma_y\n",
    "s.Matrix(Omega)*(s.Matrix(Cint))\n",
    "Hint = np.block([[s.zeros(2), Cint], [Cint.T, s.zeros(2)]])/2\n",
    "\n",
    "xs, ps, xb, pb = s.Symbol(\"xs\"), s.Symbol(\"ps\"), s.Symbol(\"xb\"), s.Symbol(\"pb\")\n",
    "\n",
    "print((s.Matrix([xs,ps,xb,pb]).T)*Hint*s.Matrix([xs,ps,xb,pb])) #BS splitter\n",
    "aint = Omega*Cint*Omega*(Cint.T)/2\n",
    "Hs = s.eye(2)*omega\n",
    "asys = Omega*Hs\n"
   ]
  },
  {
   "cell_type": "code",
   "execution_count": 7,
   "id": "017d0a79",
   "metadata": {},
   "outputs": [],
   "source": [
    "#noisy heterodyne measurement\n",
    "S = s.eye(2) \n",
    "sigma_m = S*(S.T)\n",
    "##lossy part\n",
    "Xstar = s.eye(2)/s.sqrt(eta)\n",
    "Ystar = s.eye(2)*(1-eta)/eta\n",
    "sigma_noisy_m = Xstar*(sigma_m)*(Xstar.T) + Ystar\n",
    "\n",
    "# state of B, subsystem being measured\n",
    "sigma_b = (2*N +1)*s.eye(2)\n",
    "\n",
    "Gamma_matrix = Omega*Cint*sigma_b   #auxiliar matrix for the ricatti\n",
    "\n",
    "C_matrix = (Cint*Omega*(sigma_b + sigma_noisy_m)**(-1/2)).T"
   ]
  },
  {
   "cell_type": "markdown",
   "id": "088a6613",
   "metadata": {},
   "source": [
    " Ricatti equation for covariance"
   ]
  },
  {
   "cell_type": "code",
   "execution_count": 13,
   "id": "b7f8e5c0",
   "metadata": {},
   "outputs": [
    {
     "data": {
      "text/latex": [
       "$\\displaystyle \\left[\\begin{matrix}- \\frac{\\gamma}{2} & \\omega\\\\- \\omega & - \\frac{\\gamma}{2}\\end{matrix}\\right]$"
      ],
      "text/plain": [
       "Matrix([\n",
       "[-gamma/2,    omega],\n",
       "[  -omega, -gamma/2]])"
      ]
     },
     "execution_count": 13,
     "metadata": {},
     "output_type": "execute_result"
    }
   ],
   "source": [
    "A_matrix"
   ]
  },
  {
   "cell_type": "code",
   "execution_count": 14,
   "id": "e071708a",
   "metadata": {},
   "outputs": [],
   "source": [
    "from scipy.linalg import solve_continuous_are\n",
    "A_tilde_matrix = A_matrix - (Omega*Cint*sigma_b*((sigma_b + sigma_noisy_m)**(-1))*Omega*Cint.T   )\n",
    "D_tilde_matrix = D_matrix + (Omega*Cint*sigma_b*((sigma_b + sigma_noisy_m)**(-1))*sigma_b*Cint.T*Omega)\n",
    "B_matrix = Cint*Omega*(sigma_b + sigma_noisy_m)**(-1/2)"
   ]
  },
  {
   "cell_type": "code",
   "execution_count": 15,
   "id": "83f38442",
   "metadata": {},
   "outputs": [
    {
     "ename": "TypeError",
     "evalue": "can't convert expression to float",
     "output_type": "error",
     "traceback": [
      "\u001b[0;31m---------------------------------------------------------------------------\u001b[0m",
      "\u001b[0;31mTypeError\u001b[0m                                 Traceback (most recent call last)",
      "\u001b[0;32m<ipython-input-15-cae9bf0f5362>\u001b[0m in \u001b[0;36m<module>\u001b[0;34m\u001b[0m\n\u001b[0;32m----> 1\u001b[0;31m \u001b[0mAr\u001b[0m\u001b[0;34m,\u001b[0m \u001b[0mBr\u001b[0m\u001b[0;34m,\u001b[0m \u001b[0mDr\u001b[0m \u001b[0;34m=\u001b[0m \u001b[0;34m[\u001b[0m\u001b[0mnp\u001b[0m\u001b[0;34m.\u001b[0m\u001b[0marray\u001b[0m\u001b[0;34m(\u001b[0m\u001b[0mk\u001b[0m\u001b[0;34m.\u001b[0m\u001b[0msubs\u001b[0m\u001b[0;34m(\u001b[0m\u001b[0;34m{\u001b[0m\u001b[0momega\u001b[0m\u001b[0;34m:\u001b[0m\u001b[0;36m2\u001b[0m\u001b[0;34m*\u001b[0m\u001b[0mnp\u001b[0m\u001b[0;34m.\u001b[0m\u001b[0mpi\u001b[0m\u001b[0;34m,\u001b[0m \u001b[0mN\u001b[0m\u001b[0;34m:\u001b[0m\u001b[0;36m2\u001b[0m\u001b[0;34m,\u001b[0m \u001b[0meta\u001b[0m\u001b[0;34m:\u001b[0m\u001b[0;36m0.8\u001b[0m\u001b[0;34m}\u001b[0m\u001b[0;34m)\u001b[0m\u001b[0;34m)\u001b[0m\u001b[0;34m.\u001b[0m\u001b[0mastype\u001b[0m\u001b[0;34m(\u001b[0m\u001b[0mnp\u001b[0m\u001b[0;34m.\u001b[0m\u001b[0mfloat32\u001b[0m\u001b[0;34m)\u001b[0m \u001b[0;32mfor\u001b[0m \u001b[0mk\u001b[0m \u001b[0;32min\u001b[0m \u001b[0;34m[\u001b[0m\u001b[0mA_tilde_matrix\u001b[0m\u001b[0;34m,\u001b[0m \u001b[0mB_matrix\u001b[0m\u001b[0;34m,\u001b[0m \u001b[0mD_tilde_matrix\u001b[0m\u001b[0;34m]\u001b[0m\u001b[0;34m]\u001b[0m\u001b[0;34m\u001b[0m\u001b[0;34m\u001b[0m\u001b[0m\n\u001b[0m",
      "\u001b[0;32m<ipython-input-15-cae9bf0f5362>\u001b[0m in \u001b[0;36m<listcomp>\u001b[0;34m(.0)\u001b[0m\n\u001b[0;32m----> 1\u001b[0;31m \u001b[0mAr\u001b[0m\u001b[0;34m,\u001b[0m \u001b[0mBr\u001b[0m\u001b[0;34m,\u001b[0m \u001b[0mDr\u001b[0m \u001b[0;34m=\u001b[0m \u001b[0;34m[\u001b[0m\u001b[0mnp\u001b[0m\u001b[0;34m.\u001b[0m\u001b[0marray\u001b[0m\u001b[0;34m(\u001b[0m\u001b[0mk\u001b[0m\u001b[0;34m.\u001b[0m\u001b[0msubs\u001b[0m\u001b[0;34m(\u001b[0m\u001b[0;34m{\u001b[0m\u001b[0momega\u001b[0m\u001b[0;34m:\u001b[0m\u001b[0;36m2\u001b[0m\u001b[0;34m*\u001b[0m\u001b[0mnp\u001b[0m\u001b[0;34m.\u001b[0m\u001b[0mpi\u001b[0m\u001b[0;34m,\u001b[0m \u001b[0mN\u001b[0m\u001b[0;34m:\u001b[0m\u001b[0;36m2\u001b[0m\u001b[0;34m,\u001b[0m \u001b[0meta\u001b[0m\u001b[0;34m:\u001b[0m\u001b[0;36m0.8\u001b[0m\u001b[0;34m}\u001b[0m\u001b[0;34m)\u001b[0m\u001b[0;34m)\u001b[0m\u001b[0;34m.\u001b[0m\u001b[0mastype\u001b[0m\u001b[0;34m(\u001b[0m\u001b[0mnp\u001b[0m\u001b[0;34m.\u001b[0m\u001b[0mfloat32\u001b[0m\u001b[0;34m)\u001b[0m \u001b[0;32mfor\u001b[0m \u001b[0mk\u001b[0m \u001b[0;32min\u001b[0m \u001b[0;34m[\u001b[0m\u001b[0mA_tilde_matrix\u001b[0m\u001b[0;34m,\u001b[0m \u001b[0mB_matrix\u001b[0m\u001b[0;34m,\u001b[0m \u001b[0mD_tilde_matrix\u001b[0m\u001b[0;34m]\u001b[0m\u001b[0;34m]\u001b[0m\u001b[0;34m\u001b[0m\u001b[0;34m\u001b[0m\u001b[0m\n\u001b[0m",
      "\u001b[0;32m~/.local/lib/python3.6/site-packages/sympy/core/expr.py\u001b[0m in \u001b[0;36m__float__\u001b[0;34m(self)\u001b[0m\n\u001b[1;32m    323\u001b[0m         \u001b[0;32mif\u001b[0m \u001b[0mresult\u001b[0m\u001b[0;34m.\u001b[0m\u001b[0mis_number\u001b[0m \u001b[0;32mand\u001b[0m \u001b[0mresult\u001b[0m\u001b[0;34m.\u001b[0m\u001b[0mas_real_imag\u001b[0m\u001b[0;34m(\u001b[0m\u001b[0;34m)\u001b[0m\u001b[0;34m[\u001b[0m\u001b[0;36m1\u001b[0m\u001b[0;34m]\u001b[0m\u001b[0;34m:\u001b[0m\u001b[0;34m\u001b[0m\u001b[0;34m\u001b[0m\u001b[0m\n\u001b[1;32m    324\u001b[0m             \u001b[0;32mraise\u001b[0m \u001b[0mTypeError\u001b[0m\u001b[0;34m(\u001b[0m\u001b[0;34m\"can't convert complex to float\"\u001b[0m\u001b[0;34m)\u001b[0m\u001b[0;34m\u001b[0m\u001b[0;34m\u001b[0m\u001b[0m\n\u001b[0;32m--> 325\u001b[0;31m         \u001b[0;32mraise\u001b[0m \u001b[0mTypeError\u001b[0m\u001b[0;34m(\u001b[0m\u001b[0;34m\"can't convert expression to float\"\u001b[0m\u001b[0;34m)\u001b[0m\u001b[0;34m\u001b[0m\u001b[0;34m\u001b[0m\u001b[0m\n\u001b[0m\u001b[1;32m    326\u001b[0m \u001b[0;34m\u001b[0m\u001b[0m\n\u001b[1;32m    327\u001b[0m     \u001b[0;32mdef\u001b[0m \u001b[0m__complex__\u001b[0m\u001b[0;34m(\u001b[0m\u001b[0mself\u001b[0m\u001b[0;34m)\u001b[0m\u001b[0;34m:\u001b[0m\u001b[0;34m\u001b[0m\u001b[0;34m\u001b[0m\u001b[0m\n",
      "\u001b[0;31mTypeError\u001b[0m: can't convert expression to float"
     ]
    }
   ],
   "source": [
    "Ar, Br, Dr = [np.array(k.subs({omega:2*np.pi, N:2, eta:0.8})).astype(np.float32) for k in [A_tilde_matrix, B_matrix, D_tilde_matrix]]"
   ]
  },
  {
   "cell_type": "code",
   "execution_count": 164,
   "id": "18d56395",
   "metadata": {},
   "outputs": [],
   "source": [
    "cov_stat = solve_continuous_are(Ar, Br, Dr, np.eye(2))"
   ]
  },
  {
   "cell_type": "code",
   "execution_count": 166,
   "id": "ea84e4d4",
   "metadata": {},
   "outputs": [],
   "source": [
    "varx, varp, covxp = [s.Symbol(k) for k in [\"varx\",\"varp\",\"covxp\"]]\n",
    "cov = s.Matrix([[varx, covxp],[covxp, varp]])"
   ]
  },
  {
   "cell_type": "code",
   "execution_count": 191,
   "id": "2d6b2a0c",
   "metadata": {},
   "outputs": [
    {
     "data": {
      "text/plain": [
       "[(2*N + 2*covxp*omega + 2*varx*((2*N + 1)/(2*N + 1 + (1 - eta)/eta + 1/eta) - 1/2) - (2*N + 1)**2/(2*N + 1 + (1 - eta)/eta + 1/eta) - (2*N + 1 + (1 - eta)/eta + 1/eta)**(-1.0) + 1,\n",
       "  2*covxp*((2*N + 1)/(2*N + 1 + (1 - eta)/eta + 1/eta) - 1/2) + omega*varp - omega*varx,\n",
       "  2*N - 2*covxp*omega + 2*varp*((2*N + 1)/(2*N + 1 + (1 - eta)/eta + 1/eta) - 1/2) - (2*N + 1)**2/(2*N + 1 + (1 - eta)/eta + 1/eta) - (2*N + 1 + (1 - eta)/eta + 1/eta)**(-1.0) + 1)]"
      ]
     },
     "execution_count": 191,
     "metadata": {},
     "output_type": "execute_result"
    }
   ],
   "source": [
    "varx, varp, covxp = [s.Symbol(k) for k in [\"varx\",\"varp\",\"covxp\"]]\n",
    "cov = s.Matrix([[varx, covxp],[covxp, varp]])\n",
    "\n",
    "dots = np.array(A_tilde_matrix*cov + cov*A_tilde_matrix.T + D_tilde_matrix - B_matrix*B_matrix.T)\n",
    "ders = dots[0,0], dots[0,1], dots[1,1]\n",
    "[ders]"
   ]
  },
  {
   "cell_type": "code",
   "execution_count": 49,
   "id": "356ecd0d",
   "metadata": {},
   "outputs": [],
   "source": [
    "a = ders[0]"
   ]
  },
  {
   "cell_type": "code",
   "execution_count": 63,
   "id": "a51da0a3",
   "metadata": {},
   "outputs": [
    {
     "data": {
      "text/plain": [
       "'-2*covxp**2*eta*kappa + 2*covxp*omega - gamma*varx + gamma*(n + 0.5) - 2*varx**2*eta*kappa'"
      ]
     },
     "execution_count": 63,
     "metadata": {},
     "output_type": "execute_result"
    }
   ],
   "source": []
  },
  {
   "cell_type": "code",
   "execution_count": null,
   "id": "bb7e717b",
   "metadata": {},
   "outputs": [],
   "source": [
    "def Euler(ff, G, y0, tspan, dt,**kwargs):\n",
    "    exp = kwargs.get(\"exp\",False)\n",
    "    N = len(tspan)\n",
    "    y = np.zeros((N, len(y0)))\n",
    "    y[0] = y0\n",
    "\n",
    "    if exp is True:\n",
    "        dint = 1.\n",
    "    else:\n",
    "        dint= dt\n",
    "\n",
    "    for ind,t in enumerate(tqdm(tspan[:-1])):\n",
    "        #dW = np.random.normal(0,np.sqrt(dt), (7))\n",
    "        w0 = np.random.normal()*np.sqrt(dt)\n",
    "        w1 = np.random.normal()*np.sqrt(dt)\n",
    "        dW = np.array([w0, w1, w0, w1 , 0.,0.,0.])\n",
    "        y[ind+1] = y[ind] + ff(y[ind], t, exp=exp, dt=dt)*dint + np.dot(G(y[ind], t), dW)\n",
    "    return y"
   ]
  },
  {
   "cell_type": "code",
   "execution_count": 194,
   "id": "df29038c",
   "metadata": {},
   "outputs": [],
   "source": [
    "from integrate import *"
   ]
  },
  {
   "cell_type": "code",
   "execution_count": 202,
   "id": "2cd97bc5",
   "metadata": {},
   "outputs": [
    {
     "name": "stderr",
     "output_type": "stream",
     "text": [
      "  0%|          | 0/10000 [00:00<?, ?it/s]\n"
     ]
    },
    {
     "ename": "NameError",
     "evalue": "name 'A' is not defined",
     "output_type": "error",
     "traceback": [
      "\u001b[0;31m---------------------------------------------------------------------------\u001b[0m",
      "\u001b[0;31mNameError\u001b[0m                                 Traceback (most recent call last)",
      "\u001b[0;32m<ipython-input-202-9e3a67b7362f>\u001b[0m in \u001b[0;36m<module>\u001b[0;34m\u001b[0m\n\u001b[1;32m     26\u001b[0m \u001b[0mparams\u001b[0m \u001b[0;34m=\u001b[0m \u001b[0;34m[\u001b[0m\u001b[0meta\u001b[0m\u001b[0;34m,\u001b[0m \u001b[0mgamma\u001b[0m\u001b[0;34m,\u001b[0m \u001b[0momega\u001b[0m\u001b[0;34m,\u001b[0m \u001b[0mN\u001b[0m\u001b[0;34m]\u001b[0m\u001b[0;34m\u001b[0m\u001b[0;34m\u001b[0m\u001b[0m\n\u001b[1;32m     27\u001b[0m \u001b[0;34m\u001b[0m\u001b[0m\n\u001b[0;32m---> 28\u001b[0;31m \u001b[0msolution\u001b[0m \u001b[0;34m=\u001b[0m \u001b[0mRosslerSRI2\u001b[0m\u001b[0;34m(\u001b[0m\u001b[0mFs\u001b[0m\u001b[0;34m,\u001b[0m \u001b[0mGs\u001b[0m\u001b[0;34m,\u001b[0m \u001b[0ms0\u001b[0m\u001b[0;34m,\u001b[0m \u001b[0mtimes\u001b[0m\u001b[0;34m,\u001b[0m \u001b[0mdt\u001b[0m\u001b[0;34m)\u001b[0m\u001b[0;34m\u001b[0m\u001b[0;34m\u001b[0m\u001b[0m\n\u001b[0m",
      "\u001b[0;32m~/Desktop/continuous/integrate.py\u001b[0m in \u001b[0;36mRosslerSRI2\u001b[0;34m(f, G, y0, times, dt)\u001b[0m\n\u001b[1;32m     80\u001b[0m \u001b[0;34m\u001b[0m\u001b[0m\n\u001b[1;32m     81\u001b[0m     \u001b[0;32mfor\u001b[0m \u001b[0mind\u001b[0m\u001b[0;34m,\u001b[0m \u001b[0mt\u001b[0m \u001b[0;32min\u001b[0m \u001b[0menumerate\u001b[0m\u001b[0;34m(\u001b[0m\u001b[0mtqdm\u001b[0m\u001b[0;34m(\u001b[0m\u001b[0mtimes\u001b[0m\u001b[0;34m[\u001b[0m\u001b[0;34m:\u001b[0m\u001b[0;34m-\u001b[0m\u001b[0;36m1\u001b[0m\u001b[0;34m]\u001b[0m\u001b[0;34m)\u001b[0m\u001b[0;34m)\u001b[0m\u001b[0;34m:\u001b[0m\u001b[0;34m\u001b[0m\u001b[0;34m\u001b[0m\u001b[0m\n\u001b[0;32m---> 82\u001b[0;31m         \u001b[0my\u001b[0m\u001b[0;34m[\u001b[0m\u001b[0mind\u001b[0m\u001b[0;34m+\u001b[0m\u001b[0;36m1\u001b[0m\u001b[0;34m]\u001b[0m \u001b[0;34m=\u001b[0m \u001b[0mRosslerStep\u001b[0m\u001b[0;34m(\u001b[0m\u001b[0mt\u001b[0m\u001b[0;34m,\u001b[0m\u001b[0my\u001b[0m\u001b[0;34m[\u001b[0m\u001b[0mind\u001b[0m\u001b[0;34m]\u001b[0m\u001b[0;34m,\u001b[0m \u001b[0mdW\u001b[0m\u001b[0;34m[\u001b[0m\u001b[0mind\u001b[0m\u001b[0;34m,\u001b[0m\u001b[0;34m:\u001b[0m\u001b[0;34m]\u001b[0m\u001b[0;34m,\u001b[0m \u001b[0mI\u001b[0m\u001b[0;34m[\u001b[0m\u001b[0mind\u001b[0m\u001b[0;34m,\u001b[0m\u001b[0;34m:\u001b[0m\u001b[0;34m,\u001b[0m\u001b[0;34m:\u001b[0m\u001b[0;34m]\u001b[0m\u001b[0;34m,\u001b[0m \u001b[0mdt\u001b[0m\u001b[0;34m,\u001b[0m \u001b[0mf\u001b[0m\u001b[0;34m,\u001b[0m\u001b[0mG\u001b[0m\u001b[0;34m,\u001b[0m \u001b[0md\u001b[0m\u001b[0;34m)\u001b[0m\u001b[0;34m\u001b[0m\u001b[0;34m\u001b[0m\u001b[0m\n\u001b[0m\u001b[1;32m     83\u001b[0m     \u001b[0;32mreturn\u001b[0m \u001b[0my\u001b[0m\u001b[0;34m\u001b[0m\u001b[0;34m\u001b[0m\u001b[0m\n\u001b[1;32m     84\u001b[0m \u001b[0;34m\u001b[0m\u001b[0m\n",
      "\u001b[0;32m~/Desktop/continuous/steps.py\u001b[0m in \u001b[0;36mRosslerStep\u001b[0;34m(t, Yn, Ik, Iij, dt, f, G, d)\u001b[0m\n\u001b[1;32m     89\u001b[0m \u001b[0;31m#\u001b[0m\u001b[0;34m\u001b[0m\u001b[0;34m\u001b[0m\u001b[0;34m\u001b[0m\u001b[0m\n\u001b[1;32m     90\u001b[0m \u001b[0;31m#     Iij = I[ind,:,:] # shape (m, m)\u001b[0m\u001b[0;34m\u001b[0m\u001b[0;34m\u001b[0m\u001b[0;34m\u001b[0m\u001b[0m\n\u001b[0;32m---> 91\u001b[0;31m     \u001b[0mfnh\u001b[0m \u001b[0;34m=\u001b[0m \u001b[0mf\u001b[0m\u001b[0;34m(\u001b[0m\u001b[0mYn\u001b[0m\u001b[0;34m,\u001b[0m \u001b[0mt\u001b[0m\u001b[0;34m)\u001b[0m\u001b[0;34m*\u001b[0m\u001b[0mdt\u001b[0m \u001b[0;31m# shape (d,)\u001b[0m\u001b[0;34m\u001b[0m\u001b[0;34m\u001b[0m\u001b[0m\n\u001b[0m\u001b[1;32m     92\u001b[0m \u001b[0;34m\u001b[0m\u001b[0m\n\u001b[1;32m     93\u001b[0m     \u001b[0mGn\u001b[0m \u001b[0;34m=\u001b[0m \u001b[0mG\u001b[0m\u001b[0;34m(\u001b[0m\u001b[0mYn\u001b[0m\u001b[0;34m,\u001b[0m \u001b[0mt\u001b[0m\u001b[0;34m)\u001b[0m\u001b[0;34m\u001b[0m\u001b[0;34m\u001b[0m\u001b[0m\n",
      "\u001b[0;32m~/Desktop/continuous/integrate.py\u001b[0m in \u001b[0;36mFs\u001b[0;34m(s, t, exp, coeffs, params, dt)\u001b[0m\n\u001b[1;32m     90\u001b[0m         \u001b[0mxdot\u001b[0m \u001b[0;34m=\u001b[0m \u001b[0mnp\u001b[0m\u001b[0;34m.\u001b[0m\u001b[0mdot\u001b[0m\u001b[0;34m(\u001b[0m\u001b[0mExpA\u001b[0m\u001b[0;34m-\u001b[0m\u001b[0mnp\u001b[0m\u001b[0;34m.\u001b[0m\u001b[0meye\u001b[0m\u001b[0;34m(\u001b[0m\u001b[0;36m2\u001b[0m\u001b[0;34m)\u001b[0m\u001b[0;34m,\u001b[0m \u001b[0mx\u001b[0m\u001b[0;34m)\u001b[0m  \u001b[0;31m#evolution update (according to what you measure)\u001b[0m\u001b[0;34m\u001b[0m\u001b[0;34m\u001b[0m\u001b[0m\n\u001b[1;32m     91\u001b[0m     \u001b[0;32melse\u001b[0m\u001b[0;34m:\u001b[0m\u001b[0;34m\u001b[0m\u001b[0;34m\u001b[0m\u001b[0m\n\u001b[0;32m---> 92\u001b[0;31m         \u001b[0mxdot\u001b[0m \u001b[0;34m=\u001b[0m \u001b[0mnp\u001b[0m\u001b[0;34m.\u001b[0m\u001b[0mdot\u001b[0m\u001b[0;34m(\u001b[0m\u001b[0mA\u001b[0m\u001b[0;34m,\u001b[0m\u001b[0mx\u001b[0m\u001b[0;34m)\u001b[0m\u001b[0;34m\u001b[0m\u001b[0;34m\u001b[0m\u001b[0m\n\u001b[0m\u001b[1;32m     93\u001b[0m \u001b[0;34m\u001b[0m\u001b[0m\n\u001b[1;32m     94\u001b[0m     \u001b[0my\u001b[0m \u001b[0;34m=\u001b[0m \u001b[0ms\u001b[0m\u001b[0;34m[\u001b[0m\u001b[0;36m2\u001b[0m\u001b[0;34m:\u001b[0m\u001b[0;36m4\u001b[0m\u001b[0;34m]\u001b[0m\u001b[0;34m\u001b[0m\u001b[0;34m\u001b[0m\u001b[0m\n",
      "\u001b[0;31mNameError\u001b[0m: name 'A' is not defined"
     ]
    }
   ],
   "source": [
    "x0 = 1.\n",
    "p0 = 0.\n",
    "yx0 = 0.\n",
    "yp0 = 0.\n",
    "varx0 = 1.\n",
    "varp0 = 1.\n",
    "covxy0 = 0.\n",
    "s0 = np.array([x0, p0, yx0, yp0, varx0, varp0,covxy0])\n",
    "\n",
    "gamma = 0.3\n",
    "N = 2.0\n",
    "eta = 0.8\n",
    "\n",
    "periods = 10\n",
    "ppp=1000\n",
    "dt = 1/ppp\n",
    "times = np.arange(0.,periods+dt,dt)\n",
    "\n",
    "global C, A , D \n",
    "C = C_matrix\n",
    "D = D_matrix\n",
    "A = A_matrix\n",
    "\n",
    "\n",
    "coeffs = [C, A, D , dt]\n",
    "params = [eta, gamma, omega, N]\n",
    "\n",
    "solution = RosslerSRI2(Fs, Gs, s0, times, dt)"
   ]
  },
  {
   "cell_type": "code",
   "execution_count": null,
   "id": "11668792",
   "metadata": {},
   "outputs": [],
   "source": []
  }
 ],
 "metadata": {
  "kernelspec": {
   "display_name": "Python 3 (ipykernel)",
   "language": "python",
   "name": "python3"
  },
  "language_info": {
   "codemirror_mode": {
    "name": "ipython",
    "version": 3
   },
   "file_extension": ".py",
   "mimetype": "text/x-python",
   "name": "python",
   "nbconvert_exporter": "python",
   "pygments_lexer": "ipython3",
   "version": "3.10.4"
  }
 },
 "nbformat": 4,
 "nbformat_minor": 5
}
